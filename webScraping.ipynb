{
  "cells": [
    {
      "cell_type": "code",
      "execution_count": 1,
      "id": "b1ba9a76",
      "metadata": {
        "id": "b1ba9a76"
      },
      "outputs": [],
      "source": [
        "from bs4 import BeautifulSoup\n",
        "import requests \n",
        "import csv"
      ]
    },
    {
      "cell_type": "code",
      "execution_count": 2,
      "id": "67e5128f",
      "metadata": {
        "colab": {
          "base_uri": "https://localhost:8080/"
        },
        "id": "67e5128f",
        "outputId": "2b775d14-930d-4e86-ee6a-e55d8f824697"
      },
      "outputs": [
        {
          "name": "stdout",
          "output_type": "stream",
          "text": [
            "Please enter url\n",
            "https://www.flipkart.com/mobiles/pr?sid=tyy%2C4io&p%5B%5D=facets.brand%255B%255D%3DSAMSUNG&otracker=clp_metro_expandable_5_3.metroExpandable.METRO_EXPANDABLE_Shop%2BNow_mobile-phones-store_Q0QIS4SPJNLH_wp3&fm=neo%2Fmerchandising&iid=M_c59a68bf-abb0-414d-a5a1-c7cc6ccdb202_3.Q0QIS4SPJNLH&ppt=browse&ppn=browse&ssid=b3fqp623lc0000001638369228009\n"
          ]
        }
      ],
      "source": [
        "url=input(\"Please enter url\\n\")"
      ]
    },
    {
      "cell_type": "code",
      "execution_count": 3,
      "id": "623cfc52",
      "metadata": {
        "id": "623cfc52"
      },
      "outputs": [],
      "source": [
        "file=open('flipkart2.csv','w',encoding='utf-8')\n",
        "fieldnames=['name','price','rating','count_rating']"
      ]
    },
    {
      "cell_type": "code",
      "execution_count": 4,
      "id": "da50fc15",
      "metadata": {
        "colab": {
          "base_uri": "https://localhost:8080/"
        },
        "id": "da50fc15",
        "outputId": "6d468071-0beb-4627-ac2d-fb481a0ac7c0"
      },
      "outputs": [
        {
          "output_type": "stream",
          "name": "stdout",
          "text": [
            "72\n",
            "72\n",
            "72\n",
            "72\n",
            "72\n",
            "72\n",
            "72\n"
          ]
        }
      ],
      "source": [
        "#Scrapper\n",
        "number_of_pages=4\n",
        "product=[]\n",
        "p_price=[]\n",
        "rating=[]\n",
        "apps = []                               \n",
        "os = []                  \n",
        "hd = [] \n",
        "sound = []\n",
        "reviews=[]\n",
        "for i in range(1,number_of_pages):\n",
        "    j=str(i)\n",
        "    #print(j)\n",
        "    page=requests.get(url)\n",
        "\n",
        "    soup=BeautifulSoup(page.content,'html.parser')\n",
        "\n",
        "    content=soup.find_all('div',class_='_3pLy-c row')\n",
        "    for item in content:\n",
        "        item_name=item.find('div',class_='_4rR01T')\n",
        "        item_price=item.find('div',class_='_30jeq3 _1_WHN1')\n",
        "        item_rating=item.find('div', attrs={'class':'_3LWZlK'})\n",
        "        specification = item.find('div', attrs={'class':'fMghEO'})\n",
        "        #rating_reviews=item.find('span',class_='_38sUEc')\n",
        "        for each in specification:\n",
        "            col=each.find_all('li', attrs={'class':'rgWa7D'})\n",
        "            app =col[0].text\n",
        "            os_ = col[1].text\n",
        "            hd_ = col[2].text\n",
        "            sound_ = col[3].text\n",
        "        #if item_name is not None:\n",
        "        #textlist=rating_reviews.text.split()\n",
        "        product.append(item_name.text) # Add product name to list\n",
        "        p_price.append(item_price.text) # Add price to list\n",
        "        rating.append(item_rating.text)#Add rating\n",
        "        apps.append(app)# Add supported apps specifications to list\n",
        "        os.append(os_) # Add operating system specifications to list\n",
        "        hd.append(hd_) # Add resolution specifications to list\n",
        "        sound.append(sound_) # Add sound specifications to list\n",
        "        #reviews.append(textlist)\n",
        "            \n",
        "'''writer=csv.DictWriter(file,fieldnames=fieldnames)\n",
        "writer.writeheader()\n",
        "writer.writerows(item_list)\n",
        "file.flush()\n",
        "file.close()'''\n",
        "print(len(product))\n",
        "print(len(rating))\n",
        "print(len(p_price))\n",
        "print(len(apps))\n",
        "print(len(sound))\n",
        "print(len(os))\n",
        "print(len(hd))"
      ]
    },
    {
      "cell_type": "code",
      "execution_count": 5,
      "id": "c6855756",
      "metadata": {
        "id": "c6855756"
      },
      "outputs": [],
      "source": [
        "import pandas as pd\n",
        "import numpy as np\n",
        "import seaborn as sns\n",
        "import matplotlib.pyplot as plt"
      ]
    },
    {
      "cell_type": "code",
      "execution_count": 28,
      "id": "ad92493f",
      "metadata": {
        "id": "ad92493f"
      },
      "outputs": [],
      "source": [
        "df=pd.DataFrame({'Product_Name':product,'Ram_Rom':apps,'battery':sound,'display':os,\"Resolution\":hd,'Price':p_price,'Rating':rating})\n",
        "df.to_csv('file1.csv')"
      ]
    },
    {
      "cell_type": "code",
      "source": [
        "from google.colab import files\n",
        "files.download('file1.csv') "
      ],
      "metadata": {
        "colab": {
          "base_uri": "https://localhost:8080/",
          "height": 17
        },
        "id": "31YggE1rNzvW",
        "outputId": "b39b4b96-19a8-491a-b235-102c33844065"
      },
      "id": "31YggE1rNzvW",
      "execution_count": 29,
      "outputs": [
        {
          "output_type": "display_data",
          "data": {
            "application/javascript": [
              "\n",
              "    async function download(id, filename, size) {\n",
              "      if (!google.colab.kernel.accessAllowed) {\n",
              "        return;\n",
              "      }\n",
              "      const div = document.createElement('div');\n",
              "      const label = document.createElement('label');\n",
              "      label.textContent = `Downloading \"${filename}\": `;\n",
              "      div.appendChild(label);\n",
              "      const progress = document.createElement('progress');\n",
              "      progress.max = size;\n",
              "      div.appendChild(progress);\n",
              "      document.body.appendChild(div);\n",
              "\n",
              "      const buffers = [];\n",
              "      let downloaded = 0;\n",
              "\n",
              "      const channel = await google.colab.kernel.comms.open(id);\n",
              "      // Send a message to notify the kernel that we're ready.\n",
              "      channel.send({})\n",
              "\n",
              "      for await (const message of channel.messages) {\n",
              "        // Send a message to notify the kernel that we're ready.\n",
              "        channel.send({})\n",
              "        if (message.buffers) {\n",
              "          for (const buffer of message.buffers) {\n",
              "            buffers.push(buffer);\n",
              "            downloaded += buffer.byteLength;\n",
              "            progress.value = downloaded;\n",
              "          }\n",
              "        }\n",
              "      }\n",
              "      const blob = new Blob(buffers, {type: 'application/binary'});\n",
              "      const a = document.createElement('a');\n",
              "      a.href = window.URL.createObjectURL(blob);\n",
              "      a.download = filename;\n",
              "      div.appendChild(a);\n",
              "      a.click();\n",
              "      div.remove();\n",
              "    }\n",
              "  "
            ],
            "text/plain": [
              "<IPython.core.display.Javascript object>"
            ]
          },
          "metadata": {}
        },
        {
          "output_type": "display_data",
          "data": {
            "application/javascript": [
              "download(\"download_a49fa649-f578-4dbf-b10a-906c495bcaf5\", \"file1.csv\", 13567)"
            ],
            "text/plain": [
              "<IPython.core.display.Javascript object>"
            ]
          },
          "metadata": {}
        }
      ]
    },
    {
      "cell_type": "code",
      "execution_count": 27,
      "id": "465df8f5",
      "metadata": {
        "colab": {
          "base_uri": "https://localhost:8080/",
          "height": 606
        },
        "id": "465df8f5",
        "outputId": "1391fc02-b98f-4a36-ef5b-a0c0c6af6f5e"
      },
      "outputs": [
        {
          "output_type": "execute_result",
          "data": {
            "text/html": [
              "\n",
              "  <div id=\"df-e7b020d3-aede-45d5-a286-418ce8231a59\">\n",
              "    <div class=\"colab-df-container\">\n",
              "      <div>\n",
              "<style scoped>\n",
              "    .dataframe tbody tr th:only-of-type {\n",
              "        vertical-align: middle;\n",
              "    }\n",
              "\n",
              "    .dataframe tbody tr th {\n",
              "        vertical-align: top;\n",
              "    }\n",
              "\n",
              "    .dataframe thead th {\n",
              "        text-align: right;\n",
              "    }\n",
              "</style>\n",
              "<table border=\"1\" class=\"dataframe\">\n",
              "  <thead>\n",
              "    <tr style=\"text-align: right;\">\n",
              "      <th></th>\n",
              "      <th>Product_Name</th>\n",
              "      <th>Ram_Rom</th>\n",
              "      <th>battery</th>\n",
              "      <th>display</th>\n",
              "      <th>Resolution</th>\n",
              "      <th>Price</th>\n",
              "      <th>Rating</th>\n",
              "    </tr>\n",
              "  </thead>\n",
              "  <tbody>\n",
              "    <tr>\n",
              "      <th>0</th>\n",
              "      <td>SAMSUNG Galaxy F22 (Denim Blue, 64 GB)</td>\n",
              "      <td>4 GB RAM | 64 GB ROM | Expandable Upto 1 TB</td>\n",
              "      <td>6000 mAh Lithium-ion Battery</td>\n",
              "      <td>16.26 cm (6.4 inch) HD+ Display</td>\n",
              "      <td>48MP + 8MP + 2MP + 2MP | 13MP Front Camera</td>\n",
              "      <td>₹12,999</td>\n",
              "      <td>4.3</td>\n",
              "    </tr>\n",
              "    <tr>\n",
              "      <th>1</th>\n",
              "      <td>SAMSUNG Galaxy F22 (Denim Blue, 128 GB)</td>\n",
              "      <td>6 GB RAM | 128 GB ROM | Expandable Upto 1 TB</td>\n",
              "      <td>6000 mAh Lithium-ion Battery</td>\n",
              "      <td>16.26 cm (6.4 inch) HD+ Display</td>\n",
              "      <td>48MP + 8MP + 2MP + 2MP | 13MP Front Camera</td>\n",
              "      <td>₹14,999</td>\n",
              "      <td>4.3</td>\n",
              "    </tr>\n",
              "    <tr>\n",
              "      <th>2</th>\n",
              "      <td>SAMSUNG Galaxy F12 (Celestial Black, 64 GB)</td>\n",
              "      <td>4 GB RAM | 64 GB ROM | Expandable Upto 512 GB</td>\n",
              "      <td>6000 mAh Lithium-ion Battery</td>\n",
              "      <td>16.55 cm (6.515 inch) HD+ Display</td>\n",
              "      <td>48MP + 5MP + 2MP + 2MP | 8MP Front Camera</td>\n",
              "      <td>₹11,499</td>\n",
              "      <td>4.2</td>\n",
              "    </tr>\n",
              "    <tr>\n",
              "      <th>3</th>\n",
              "      <td>SAMSUNG Galaxy F22 (Denim Black, 64 GB)</td>\n",
              "      <td>4 GB RAM | 64 GB ROM | Expandable Upto 1 TB</td>\n",
              "      <td>6000 mAh Lithium-ion Battery</td>\n",
              "      <td>16.26 cm (6.4 inch) HD+ Display</td>\n",
              "      <td>48MP + 8MP + 2MP + 2MP | 13MP Front Camera</td>\n",
              "      <td>₹12,999</td>\n",
              "      <td>4.3</td>\n",
              "    </tr>\n",
              "    <tr>\n",
              "      <th>4</th>\n",
              "      <td>SAMSUNG Galaxy F12 (Sky Blue, 64 GB)</td>\n",
              "      <td>4 GB RAM | 64 GB ROM | Expandable Upto 512 GB</td>\n",
              "      <td>6000 mAh Lithium-ion Battery</td>\n",
              "      <td>16.55 cm (6.515 inch) HD+ Display</td>\n",
              "      <td>48MP + 5MP + 2MP + 2MP | 8MP Front Camera</td>\n",
              "      <td>₹11,499</td>\n",
              "      <td>4.2</td>\n",
              "    </tr>\n",
              "    <tr>\n",
              "      <th>...</th>\n",
              "      <td>...</td>\n",
              "      <td>...</td>\n",
              "      <td>...</td>\n",
              "      <td>...</td>\n",
              "      <td>...</td>\n",
              "      <td>...</td>\n",
              "      <td>...</td>\n",
              "    </tr>\n",
              "    <tr>\n",
              "      <th>67</th>\n",
              "      <td>SAMSUNG Galaxy M12 (Black, 128 GB)</td>\n",
              "      <td>6 GB RAM | 128 GB ROM</td>\n",
              "      <td>6000 mAh Battery</td>\n",
              "      <td>16.51 cm (6.5 inch) Display</td>\n",
              "      <td>48MP Rear Camera</td>\n",
              "      <td>₹13,849</td>\n",
              "      <td>4.2</td>\n",
              "    </tr>\n",
              "    <tr>\n",
              "      <th>68</th>\n",
              "      <td>SAMSUNG Galaxy F62 (Laser Grey, 128 GB)</td>\n",
              "      <td>8 GB RAM | 128 GB ROM | Expandable Upto 1 TB</td>\n",
              "      <td>7000 mAh Lithium-ion Battery</td>\n",
              "      <td>17.02 cm (6.7 inch) Full HD+ Display</td>\n",
              "      <td>64MP + 12MP + 5MP + 5MP | 32MP Front Camera</td>\n",
              "      <td>₹25,999</td>\n",
              "      <td>4.3</td>\n",
              "    </tr>\n",
              "    <tr>\n",
              "      <th>69</th>\n",
              "      <td>SAMSUNG Galaxy A22 5G (Mint, 128 GB)</td>\n",
              "      <td>6 GB RAM | 128 GB ROM | Expandable Upto 1 TB</td>\n",
              "      <td>5000 mAh Lithium-ion Battery</td>\n",
              "      <td>16.76 cm (6.6 inch) Full HD+ Display</td>\n",
              "      <td>48MP + 5MP + 2MP | 8MP Front Camera</td>\n",
              "      <td>₹18,358</td>\n",
              "      <td>4.3</td>\n",
              "    </tr>\n",
              "    <tr>\n",
              "      <th>70</th>\n",
              "      <td>SAMSUNG Galaxy M12 (White, 64 GB)</td>\n",
              "      <td>4 GB RAM | 64 GB ROM</td>\n",
              "      <td>6000 mAh Battery</td>\n",
              "      <td>16.51 cm (6.5 inch) Display</td>\n",
              "      <td>48MP Rear Camera</td>\n",
              "      <td>₹11,380</td>\n",
              "      <td>4.2</td>\n",
              "    </tr>\n",
              "    <tr>\n",
              "      <th>71</th>\n",
              "      <td>SAMSUNG GURU GT</td>\n",
              "      <td>153 MB RAM | 153 MB ROM</td>\n",
              "      <td>1 Year Manufacturer Warranty</td>\n",
              "      <td>3.81 cm (1.5 inch) Display</td>\n",
              "      <td>800 mAh Battery</td>\n",
              "      <td>₹1,999</td>\n",
              "      <td>4.1</td>\n",
              "    </tr>\n",
              "  </tbody>\n",
              "</table>\n",
              "<p>72 rows × 7 columns</p>\n",
              "</div>\n",
              "      <button class=\"colab-df-convert\" onclick=\"convertToInteractive('df-e7b020d3-aede-45d5-a286-418ce8231a59')\"\n",
              "              title=\"Convert this dataframe to an interactive table.\"\n",
              "              style=\"display:none;\">\n",
              "        \n",
              "  <svg xmlns=\"http://www.w3.org/2000/svg\" height=\"24px\"viewBox=\"0 0 24 24\"\n",
              "       width=\"24px\">\n",
              "    <path d=\"M0 0h24v24H0V0z\" fill=\"none\"/>\n",
              "    <path d=\"M18.56 5.44l.94 2.06.94-2.06 2.06-.94-2.06-.94-.94-2.06-.94 2.06-2.06.94zm-11 1L8.5 8.5l.94-2.06 2.06-.94-2.06-.94L8.5 2.5l-.94 2.06-2.06.94zm10 10l.94 2.06.94-2.06 2.06-.94-2.06-.94-.94-2.06-.94 2.06-2.06.94z\"/><path d=\"M17.41 7.96l-1.37-1.37c-.4-.4-.92-.59-1.43-.59-.52 0-1.04.2-1.43.59L10.3 9.45l-7.72 7.72c-.78.78-.78 2.05 0 2.83L4 21.41c.39.39.9.59 1.41.59.51 0 1.02-.2 1.41-.59l7.78-7.78 2.81-2.81c.8-.78.8-2.07 0-2.86zM5.41 20L4 18.59l7.72-7.72 1.47 1.35L5.41 20z\"/>\n",
              "  </svg>\n",
              "      </button>\n",
              "      \n",
              "  <style>\n",
              "    .colab-df-container {\n",
              "      display:flex;\n",
              "      flex-wrap:wrap;\n",
              "      gap: 12px;\n",
              "    }\n",
              "\n",
              "    .colab-df-convert {\n",
              "      background-color: #E8F0FE;\n",
              "      border: none;\n",
              "      border-radius: 50%;\n",
              "      cursor: pointer;\n",
              "      display: none;\n",
              "      fill: #1967D2;\n",
              "      height: 32px;\n",
              "      padding: 0 0 0 0;\n",
              "      width: 32px;\n",
              "    }\n",
              "\n",
              "    .colab-df-convert:hover {\n",
              "      background-color: #E2EBFA;\n",
              "      box-shadow: 0px 1px 2px rgba(60, 64, 67, 0.3), 0px 1px 3px 1px rgba(60, 64, 67, 0.15);\n",
              "      fill: #174EA6;\n",
              "    }\n",
              "\n",
              "    [theme=dark] .colab-df-convert {\n",
              "      background-color: #3B4455;\n",
              "      fill: #D2E3FC;\n",
              "    }\n",
              "\n",
              "    [theme=dark] .colab-df-convert:hover {\n",
              "      background-color: #434B5C;\n",
              "      box-shadow: 0px 1px 3px 1px rgba(0, 0, 0, 0.15);\n",
              "      filter: drop-shadow(0px 1px 2px rgba(0, 0, 0, 0.3));\n",
              "      fill: #FFFFFF;\n",
              "    }\n",
              "  </style>\n",
              "\n",
              "      <script>\n",
              "        const buttonEl =\n",
              "          document.querySelector('#df-e7b020d3-aede-45d5-a286-418ce8231a59 button.colab-df-convert');\n",
              "        buttonEl.style.display =\n",
              "          google.colab.kernel.accessAllowed ? 'block' : 'none';\n",
              "\n",
              "        async function convertToInteractive(key) {\n",
              "          const element = document.querySelector('#df-e7b020d3-aede-45d5-a286-418ce8231a59');\n",
              "          const dataTable =\n",
              "            await google.colab.kernel.invokeFunction('convertToInteractive',\n",
              "                                                     [key], {});\n",
              "          if (!dataTable) return;\n",
              "\n",
              "          const docLinkHtml = 'Like what you see? Visit the ' +\n",
              "            '<a target=\"_blank\" href=https://colab.research.google.com/notebooks/data_table.ipynb>data table notebook</a>'\n",
              "            + ' to learn more about interactive tables.';\n",
              "          element.innerHTML = '';\n",
              "          dataTable['output_type'] = 'display_data';\n",
              "          await google.colab.output.renderOutput(dataTable, element);\n",
              "          const docLink = document.createElement('div');\n",
              "          docLink.innerHTML = docLinkHtml;\n",
              "          element.appendChild(docLink);\n",
              "        }\n",
              "      </script>\n",
              "    </div>\n",
              "  </div>\n",
              "  "
            ],
            "text/plain": [
              "                                   Product_Name  ... Rating\n",
              "0        SAMSUNG Galaxy F22 (Denim Blue, 64 GB)  ...    4.3\n",
              "1       SAMSUNG Galaxy F22 (Denim Blue, 128 GB)  ...    4.3\n",
              "2   SAMSUNG Galaxy F12 (Celestial Black, 64 GB)  ...    4.2\n",
              "3       SAMSUNG Galaxy F22 (Denim Black, 64 GB)  ...    4.3\n",
              "4          SAMSUNG Galaxy F12 (Sky Blue, 64 GB)  ...    4.2\n",
              "..                                          ...  ...    ...\n",
              "67           SAMSUNG Galaxy M12 (Black, 128 GB)  ...    4.2\n",
              "68      SAMSUNG Galaxy F62 (Laser Grey, 128 GB)  ...    4.3\n",
              "69         SAMSUNG Galaxy A22 5G (Mint, 128 GB)  ...    4.3\n",
              "70            SAMSUNG Galaxy M12 (White, 64 GB)  ...    4.2\n",
              "71                              SAMSUNG GURU GT  ...    4.1\n",
              "\n",
              "[72 rows x 7 columns]"
            ]
          },
          "metadata": {},
          "execution_count": 27
        }
      ],
      "source": [
        "df"
      ]
    },
    {
      "cell_type": "code",
      "execution_count": 12,
      "id": "a17fb086",
      "metadata": {
        "colab": {
          "base_uri": "https://localhost:8080/"
        },
        "id": "a17fb086",
        "outputId": "6bf6f8e8-ee73-4f45-d24c-7e39a8428652"
      },
      "outputs": [
        {
          "output_type": "stream",
          "name": "stdout",
          "text": [
            "[nltk_data] Downloading package stopwords to /root/nltk_data...\n",
            "[nltk_data]   Unzipping corpora/stopwords.zip.\n"
          ]
        }
      ],
      "source": [
        "\n",
        "from textblob import TextBlob\n",
        "from wordcloud import WordCloud\n",
        "import re\n",
        "import nltk\n",
        "nltk.download('stopwords')\n",
        "from nltk.corpus import stopwords\n",
        "from nltk.tokenize import RegexpTokenizer\n",
        "from nltk.stem.porter import PorterStemmer"
      ]
    },
    {
      "cell_type": "code",
      "execution_count": 9,
      "id": "8c972a99",
      "metadata": {
        "colab": {
          "base_uri": "https://localhost:8080/",
          "height": 232
        },
        "id": "8c972a99",
        "outputId": "fffeb55a-fa8c-4b26-de4a-50fc42139b7b"
      },
      "outputs": [
        {
          "output_type": "display_data",
          "data": {
            "image/png": "[encoded data removed]",
            "text/plain": [
              "<Figure size 432x288 with 1 Axes>"
            ]
          },
          "metadata": {
            "needs_background": "light"
          }
        }
      ],
      "source": [
        "#plot the word cloud\n",
        "allWords = ''.join([twts for twts in df['Product_Name']])\n",
        "wordCloud = WordCloud(width = 500,height =300,random_state = 21,max_font_size =119).generate(allWords)\n",
        "plt.imshow(wordCloud,interpolation = \"bilinear\")\n",
        "plt.axis('off')\n",
        "plt.show()"
      ]
    },
    {
      "cell_type": "code",
      "execution_count": 10,
      "id": "4248e700",
      "metadata": {
        "id": "4248e700"
      },
      "outputs": [],
      "source": [
        "def getCleanedText(text):\n",
        "    text=text.lower()\n",
        "    tokenizer=RegexpTokenizer(r'\\w+')\n",
        "    ps=PorterStemmer()\n",
        "    en_stop=set(stopwords.words('english'))\n",
        "    tokens=tokenizer.tokenize(text)\n",
        "    new_tokens=[token for token in tokens if token not in en_stop]\n",
        "    stemmed_tokens=[ps.stem(tokens) for tokens in new_tokens]\n",
        "    clean_text=\" \".join(stemmed_tokens)\n",
        "    return clean_text"
      ]
    },
    {
      "cell_type": "code",
      "execution_count": 15,
      "id": "a292618b",
      "metadata": {
        "id": "a292618b"
      },
      "outputs": [],
      "source": [
        "df['Price']=df['Price'].apply(getCleanedText)"
      ]
    },
    {
      "cell_type": "code",
      "execution_count": 16,
      "id": "e0591be3",
      "metadata": {
        "colab": {
          "base_uri": "https://localhost:8080/",
          "height": 624
        },
        "id": "e0591be3",
        "outputId": "a825b2a3-e04a-4749-de26-f616fbbf67b1"
      },
      "outputs": [
        {
          "output_type": "execute_result",
          "data": {
            "text/html": [
              "\n",
              "  <div id=\"df-ebaa5bf0-bf7e-48bb-bc56-7d6a9b19644e\">\n",
              "    <div class=\"colab-df-container\">\n",
              "      <div>\n",
              "<style scoped>\n",
              "    .dataframe tbody tr th:only-of-type {\n",
              "        vertical-align: middle;\n",
              "    }\n",
              "\n",
              "    .dataframe tbody tr th {\n",
              "        vertical-align: top;\n",
              "    }\n",
              "\n",
              "    .dataframe thead th {\n",
              "        text-align: right;\n",
              "    }\n",
              "</style>\n",
              "<table border=\"1\" class=\"dataframe\">\n",
              "  <thead>\n",
              "    <tr style=\"text-align: right;\">\n",
              "      <th></th>\n",
              "      <th>Product_Name</th>\n",
              "      <th>Ram_Rom</th>\n",
              "      <th>battery</th>\n",
              "      <th>display</th>\n",
              "      <th>Resolution</th>\n",
              "      <th>Price</th>\n",
              "      <th>Rating</th>\n",
              "    </tr>\n",
              "  </thead>\n",
              "  <tbody>\n",
              "    <tr>\n",
              "      <th>0</th>\n",
              "      <td>SAMSUNG Galaxy F22 (Denim Blue, 64 GB)</td>\n",
              "      <td>4 GB RAM | 64 GB ROM | Expandable Upto 1 TB</td>\n",
              "      <td>6000 mAh Lithium-ion Battery</td>\n",
              "      <td>16.26 cm (6.4 inch) HD+ Display</td>\n",
              "      <td>48MP + 8MP + 2MP + 2MP | 13MP Front Camera</td>\n",
              "      <td>12 999</td>\n",
              "      <td>4.3</td>\n",
              "    </tr>\n",
              "    <tr>\n",
              "      <th>1</th>\n",
              "      <td>SAMSUNG Galaxy F22 (Denim Blue, 128 GB)</td>\n",
              "      <td>6 GB RAM | 128 GB ROM | Expandable Upto 1 TB</td>\n",
              "      <td>6000 mAh Lithium-ion Battery</td>\n",
              "      <td>16.26 cm (6.4 inch) HD+ Display</td>\n",
              "      <td>48MP + 8MP + 2MP + 2MP | 13MP Front Camera</td>\n",
              "      <td>14 999</td>\n",
              "      <td>4.3</td>\n",
              "    </tr>\n",
              "    <tr>\n",
              "      <th>2</th>\n",
              "      <td>SAMSUNG Galaxy F12 (Celestial Black, 64 GB)</td>\n",
              "      <td>4 GB RAM | 64 GB ROM | Expandable Upto 512 GB</td>\n",
              "      <td>6000 mAh Lithium-ion Battery</td>\n",
              "      <td>16.55 cm (6.515 inch) HD+ Display</td>\n",
              "      <td>48MP + 5MP + 2MP + 2MP | 8MP Front Camera</td>\n",
              "      <td>11 499</td>\n",
              "      <td>4.2</td>\n",
              "    </tr>\n",
              "    <tr>\n",
              "      <th>3</th>\n",
              "      <td>SAMSUNG Galaxy F22 (Denim Black, 64 GB)</td>\n",
              "      <td>4 GB RAM | 64 GB ROM | Expandable Upto 1 TB</td>\n",
              "      <td>6000 mAh Lithium-ion Battery</td>\n",
              "      <td>16.26 cm (6.4 inch) HD+ Display</td>\n",
              "      <td>48MP + 8MP + 2MP + 2MP | 13MP Front Camera</td>\n",
              "      <td>12 999</td>\n",
              "      <td>4.3</td>\n",
              "    </tr>\n",
              "    <tr>\n",
              "      <th>4</th>\n",
              "      <td>SAMSUNG Galaxy F12 (Sky Blue, 64 GB)</td>\n",
              "      <td>4 GB RAM | 64 GB ROM | Expandable Upto 512 GB</td>\n",
              "      <td>6000 mAh Lithium-ion Battery</td>\n",
              "      <td>16.55 cm (6.515 inch) HD+ Display</td>\n",
              "      <td>48MP + 5MP + 2MP + 2MP | 8MP Front Camera</td>\n",
              "      <td>11 499</td>\n",
              "      <td>4.2</td>\n",
              "    </tr>\n",
              "    <tr>\n",
              "      <th>...</th>\n",
              "      <td>...</td>\n",
              "      <td>...</td>\n",
              "      <td>...</td>\n",
              "      <td>...</td>\n",
              "      <td>...</td>\n",
              "      <td>...</td>\n",
              "      <td>...</td>\n",
              "    </tr>\n",
              "    <tr>\n",
              "      <th>67</th>\n",
              "      <td>SAMSUNG Galaxy M12 (Black, 128 GB)</td>\n",
              "      <td>6 GB RAM | 128 GB ROM</td>\n",
              "      <td>6000 mAh Battery</td>\n",
              "      <td>16.51 cm (6.5 inch) Display</td>\n",
              "      <td>48MP Rear Camera</td>\n",
              "      <td>13 849</td>\n",
              "      <td>4.2</td>\n",
              "    </tr>\n",
              "    <tr>\n",
              "      <th>68</th>\n",
              "      <td>SAMSUNG Galaxy F62 (Laser Grey, 128 GB)</td>\n",
              "      <td>8 GB RAM | 128 GB ROM | Expandable Upto 1 TB</td>\n",
              "      <td>7000 mAh Lithium-ion Battery</td>\n",
              "      <td>17.02 cm (6.7 inch) Full HD+ Display</td>\n",
              "      <td>64MP + 12MP + 5MP + 5MP | 32MP Front Camera</td>\n",
              "      <td>25 999</td>\n",
              "      <td>4.3</td>\n",
              "    </tr>\n",
              "    <tr>\n",
              "      <th>69</th>\n",
              "      <td>SAMSUNG Galaxy A22 5G (Mint, 128 GB)</td>\n",
              "      <td>6 GB RAM | 128 GB ROM | Expandable Upto 1 TB</td>\n",
              "      <td>5000 mAh Lithium-ion Battery</td>\n",
              "      <td>16.76 cm (6.6 inch) Full HD+ Display</td>\n",
              "      <td>48MP + 5MP + 2MP | 8MP Front Camera</td>\n",
              "      <td>18 358</td>\n",
              "      <td>4.3</td>\n",
              "    </tr>\n",
              "    <tr>\n",
              "      <th>70</th>\n",
              "      <td>SAMSUNG Galaxy M12 (White, 64 GB)</td>\n",
              "      <td>4 GB RAM | 64 GB ROM</td>\n",
              "      <td>6000 mAh Battery</td>\n",
              "      <td>16.51 cm (6.5 inch) Display</td>\n",
              "      <td>48MP Rear Camera</td>\n",
              "      <td>11 380</td>\n",
              "      <td>4.2</td>\n",
              "    </tr>\n",
              "    <tr>\n",
              "      <th>71</th>\n",
              "      <td>SAMSUNG GURU GT</td>\n",
              "      <td>153 MB RAM | 153 MB ROM</td>\n",
              "      <td>1 Year Manufacturer Warranty</td>\n",
              "      <td>3.81 cm (1.5 inch) Display</td>\n",
              "      <td>800 mAh Battery</td>\n",
              "      <td>1 999</td>\n",
              "      <td>4.1</td>\n",
              "    </tr>\n",
              "  </tbody>\n",
              "</table>\n",
              "<p>72 rows × 7 columns</p>\n",
              "</div>\n",
              "      <button class=\"colab-df-convert\" onclick=\"convertToInteractive('df-ebaa5bf0-bf7e-48bb-bc56-7d6a9b19644e')\"\n",
              "              title=\"Convert this dataframe to an interactive table.\"\n",
              "              style=\"display:none;\">\n",
              "        \n",
              "  <svg xmlns=\"http://www.w3.org/2000/svg\" height=\"24px\"viewBox=\"0 0 24 24\"\n",
              "       width=\"24px\">\n",
              "    <path d=\"M0 0h24v24H0V0z\" fill=\"none\"/>\n",
              "    <path d=\"M18.56 5.44l.94 2.06.94-2.06 2.06-.94-2.06-.94-.94-2.06-.94 2.06-2.06.94zm-11 1L8.5 8.5l.94-2.06 2.06-.94-2.06-.94L8.5 2.5l-.94 2.06-2.06.94zm10 10l.94 2.06.94-2.06 2.06-.94-2.06-.94-.94-2.06-.94 2.06-2.06.94z\"/><path d=\"M17.41 7.96l-1.37-1.37c-.4-.4-.92-.59-1.43-.59-.52 0-1.04.2-1.43.59L10.3 9.45l-7.72 7.72c-.78.78-.78 2.05 0 2.83L4 21.41c.39.39.9.59 1.41.59.51 0 1.02-.2 1.41-.59l7.78-7.78 2.81-2.81c.8-.78.8-2.07 0-2.86zM5.41 20L4 18.59l7.72-7.72 1.47 1.35L5.41 20z\"/>\n",
              "  </svg>\n",
              "      </button>\n",
              "      \n",
              "  <style>\n",
              "    .colab-df-container {\n",
              "      display:flex;\n",
              "      flex-wrap:wrap;\n",
              "      gap: 12px;\n",
              "    }\n",
              "\n",
              "    .colab-df-convert {\n",
              "      background-color: #E8F0FE;\n",
              "      border: none;\n",
              "      border-radius: 50%;\n",
              "      cursor: pointer;\n",
              "      display: none;\n",
              "      fill: #1967D2;\n",
              "      height: 32px;\n",
              "      padding: 0 0 0 0;\n",
              "      width: 32px;\n",
              "    }\n",
              "\n",
              "    .colab-df-convert:hover {\n",
              "      background-color: #E2EBFA;\n",
              "      box-shadow: 0px 1px 2px rgba(60, 64, 67, 0.3), 0px 1px 3px 1px rgba(60, 64, 67, 0.15);\n",
              "      fill: #174EA6;\n",
              "    }\n",
              "\n",
              "    [theme=dark] .colab-df-convert {\n",
              "      background-color: #3B4455;\n",
              "      fill: #D2E3FC;\n",
              "    }\n",
              "\n",
              "    [theme=dark] .colab-df-convert:hover {\n",
              "      background-color: #434B5C;\n",
              "      box-shadow: 0px 1px 3px 1px rgba(0, 0, 0, 0.15);\n",
              "      filter: drop-shadow(0px 1px 2px rgba(0, 0, 0, 0.3));\n",
              "      fill: #FFFFFF;\n",
              "    }\n",
              "  </style>\n",
              "\n",
              "      <script>\n",
              "        const buttonEl =\n",
              "          document.querySelector('#df-ebaa5bf0-bf7e-48bb-bc56-7d6a9b19644e button.colab-df-convert');\n",
              "        buttonEl.style.display =\n",
              "          google.colab.kernel.accessAllowed ? 'block' : 'none';\n",
              "\n",
              "        async function convertToInteractive(key) {\n",
              "          const element = document.querySelector('#df-ebaa5bf0-bf7e-48bb-bc56-7d6a9b19644e');\n",
              "          const dataTable =\n",
              "            await google.colab.kernel.invokeFunction('convertToInteractive',\n",
              "                                                     [key], {});\n",
              "          if (!dataTable) return;\n",
              "\n",
              "          const docLinkHtml = 'Like what you see? Visit the ' +\n",
              "            '<a target=\"_blank\" href=https://colab.research.google.com/notebooks/data_table.ipynb>data table notebook</a>'\n",
              "            + ' to learn more about interactive tables.';\n",
              "          element.innerHTML = '';\n",
              "          dataTable['output_type'] = 'display_data';\n",
              "          await google.colab.output.renderOutput(dataTable, element);\n",
              "          const docLink = document.createElement('div');\n",
              "          docLink.innerHTML = docLinkHtml;\n",
              "          element.appendChild(docLink);\n",
              "        }\n",
              "      </script>\n",
              "    </div>\n",
              "  </div>\n",
              "  "
            ],
            "text/plain": [
              "                                   Product_Name  ... Rating\n",
              "0        SAMSUNG Galaxy F22 (Denim Blue, 64 GB)  ...    4.3\n",
              "1       SAMSUNG Galaxy F22 (Denim Blue, 128 GB)  ...    4.3\n",
              "2   SAMSUNG Galaxy F12 (Celestial Black, 64 GB)  ...    4.2\n",
              "3       SAMSUNG Galaxy F22 (Denim Black, 64 GB)  ...    4.3\n",
              "4          SAMSUNG Galaxy F12 (Sky Blue, 64 GB)  ...    4.2\n",
              "..                                          ...  ...    ...\n",
              "67           SAMSUNG Galaxy M12 (Black, 128 GB)  ...    4.2\n",
              "68      SAMSUNG Galaxy F62 (Laser Grey, 128 GB)  ...    4.3\n",
              "69         SAMSUNG Galaxy A22 5G (Mint, 128 GB)  ...    4.3\n",
              "70            SAMSUNG Galaxy M12 (White, 64 GB)  ...    4.2\n",
              "71                              SAMSUNG GURU GT  ...    4.1\n",
              "\n",
              "[72 rows x 7 columns]"
            ]
          },
          "metadata": {},
          "execution_count": 16
        }
      ],
      "source": [
        "df"
      ]
    },
    {
      "cell_type": "code",
      "execution_count": 30,
      "id": "923a26d1",
      "metadata": {
        "colab": {
          "base_uri": "https://localhost:8080/",
          "height": 17
        },
        "id": "923a26d1",
        "outputId": "f80327ec-b0ed-4116-9625-8616c0f3b3ac"
      },
      "outputs": [
        {
          "output_type": "display_data",
          "data": {
            "application/javascript": [
              "\n",
              "    async function download(id, filename, size) {\n",
              "      if (!google.colab.kernel.accessAllowed) {\n",
              "        return;\n",
              "      }\n",
              "      const div = document.createElement('div');\n",
              "      const label = document.createElement('label');\n",
              "      label.textContent = `Downloading \"${filename}\": `;\n",
              "      div.appendChild(label);\n",
              "      const progress = document.createElement('progress');\n",
              "      progress.max = size;\n",
              "      div.appendChild(progress);\n",
              "      document.body.appendChild(div);\n",
              "\n",
              "      const buffers = [];\n",
              "      let downloaded = 0;\n",
              "\n",
              "      const channel = await google.colab.kernel.comms.open(id);\n",
              "      // Send a message to notify the kernel that we're ready.\n",
              "      channel.send({})\n",
              "\n",
              "      for await (const message of channel.messages) {\n",
              "        // Send a message to notify the kernel that we're ready.\n",
              "        channel.send({})\n",
              "        if (message.buffers) {\n",
              "          for (const buffer of message.buffers) {\n",
              "            buffers.push(buffer);\n",
              "            downloaded += buffer.byteLength;\n",
              "            progress.value = downloaded;\n",
              "          }\n",
              "        }\n",
              "      }\n",
              "      const blob = new Blob(buffers, {type: 'application/binary'});\n",
              "      const a = document.createElement('a');\n",
              "      a.href = window.URL.createObjectURL(blob);\n",
              "      a.download = filename;\n",
              "      div.appendChild(a);\n",
              "      a.click();\n",
              "      div.remove();\n",
              "    }\n",
              "  "
            ],
            "text/plain": [
              "<IPython.core.display.Javascript object>"
            ]
          },
          "metadata": {}
        },
        {
          "output_type": "display_data",
          "data": {
            "application/javascript": [
              "download(\"download_d4f8403e-a04f-47b5-8dd1-34b1b3515331\", \"file2.csv\", 5773)"
            ],
            "text/plain": [
              "<IPython.core.display.Javascript object>"
            ]
          },
          "metadata": {}
        }
      ],
      "source": [
        "new_df = df[['Product_Name', 'Rating','Resolution']].copy()\n",
        "new_df.to_csv('file2.csv')\n",
        "files.download('file2.csv') "
      ]
    },
    {
      "cell_type": "code",
      "execution_count": 18,
      "id": "975f9f2d",
      "metadata": {
        "colab": {
          "base_uri": "https://localhost:8080/",
          "height": 423
        },
        "id": "975f9f2d",
        "outputId": "b6b061ff-ee7f-4652-d8ad-a43db1f1f5ad"
      },
      "outputs": [
        {
          "output_type": "execute_result",
          "data": {
            "text/html": [
              "\n",
              "  <div id=\"df-903cec4a-f277-4e58-ab14-53458b8756c3\">\n",
              "    <div class=\"colab-df-container\">\n",
              "      <div>\n",
              "<style scoped>\n",
              "    .dataframe tbody tr th:only-of-type {\n",
              "        vertical-align: middle;\n",
              "    }\n",
              "\n",
              "    .dataframe tbody tr th {\n",
              "        vertical-align: top;\n",
              "    }\n",
              "\n",
              "    .dataframe thead th {\n",
              "        text-align: right;\n",
              "    }\n",
              "</style>\n",
              "<table border=\"1\" class=\"dataframe\">\n",
              "  <thead>\n",
              "    <tr style=\"text-align: right;\">\n",
              "      <th></th>\n",
              "      <th>Product_Name</th>\n",
              "      <th>Rating</th>\n",
              "      <th>Resolution</th>\n",
              "    </tr>\n",
              "  </thead>\n",
              "  <tbody>\n",
              "    <tr>\n",
              "      <th>0</th>\n",
              "      <td>SAMSUNG Galaxy F22 (Denim Blue, 64 GB)</td>\n",
              "      <td>4.3</td>\n",
              "      <td>48MP + 8MP + 2MP + 2MP | 13MP Front Camera</td>\n",
              "    </tr>\n",
              "    <tr>\n",
              "      <th>1</th>\n",
              "      <td>SAMSUNG Galaxy F22 (Denim Blue, 128 GB)</td>\n",
              "      <td>4.3</td>\n",
              "      <td>48MP + 8MP + 2MP + 2MP | 13MP Front Camera</td>\n",
              "    </tr>\n",
              "    <tr>\n",
              "      <th>2</th>\n",
              "      <td>SAMSUNG Galaxy F12 (Celestial Black, 64 GB)</td>\n",
              "      <td>4.2</td>\n",
              "      <td>48MP + 5MP + 2MP + 2MP | 8MP Front Camera</td>\n",
              "    </tr>\n",
              "    <tr>\n",
              "      <th>3</th>\n",
              "      <td>SAMSUNG Galaxy F22 (Denim Black, 64 GB)</td>\n",
              "      <td>4.3</td>\n",
              "      <td>48MP + 8MP + 2MP + 2MP | 13MP Front Camera</td>\n",
              "    </tr>\n",
              "    <tr>\n",
              "      <th>4</th>\n",
              "      <td>SAMSUNG Galaxy F12 (Sky Blue, 64 GB)</td>\n",
              "      <td>4.2</td>\n",
              "      <td>48MP + 5MP + 2MP + 2MP | 8MP Front Camera</td>\n",
              "    </tr>\n",
              "    <tr>\n",
              "      <th>...</th>\n",
              "      <td>...</td>\n",
              "      <td>...</td>\n",
              "      <td>...</td>\n",
              "    </tr>\n",
              "    <tr>\n",
              "      <th>67</th>\n",
              "      <td>SAMSUNG Galaxy M12 (Black, 128 GB)</td>\n",
              "      <td>4.2</td>\n",
              "      <td>48MP Rear Camera</td>\n",
              "    </tr>\n",
              "    <tr>\n",
              "      <th>68</th>\n",
              "      <td>SAMSUNG Galaxy F62 (Laser Grey, 128 GB)</td>\n",
              "      <td>4.3</td>\n",
              "      <td>64MP + 12MP + 5MP + 5MP | 32MP Front Camera</td>\n",
              "    </tr>\n",
              "    <tr>\n",
              "      <th>69</th>\n",
              "      <td>SAMSUNG Galaxy A22 5G (Mint, 128 GB)</td>\n",
              "      <td>4.3</td>\n",
              "      <td>48MP + 5MP + 2MP | 8MP Front Camera</td>\n",
              "    </tr>\n",
              "    <tr>\n",
              "      <th>70</th>\n",
              "      <td>SAMSUNG Galaxy M12 (White, 64 GB)</td>\n",
              "      <td>4.2</td>\n",
              "      <td>48MP Rear Camera</td>\n",
              "    </tr>\n",
              "    <tr>\n",
              "      <th>71</th>\n",
              "      <td>SAMSUNG GURU GT</td>\n",
              "      <td>4.1</td>\n",
              "      <td>800 mAh Battery</td>\n",
              "    </tr>\n",
              "  </tbody>\n",
              "</table>\n",
              "<p>72 rows × 3 columns</p>\n",
              "</div>\n",
              "      <button class=\"colab-df-convert\" onclick=\"convertToInteractive('df-903cec4a-f277-4e58-ab14-53458b8756c3')\"\n",
              "              title=\"Convert this dataframe to an interactive table.\"\n",
              "              style=\"display:none;\">\n",
              "        \n",
              "  <svg xmlns=\"http://www.w3.org/2000/svg\" height=\"24px\"viewBox=\"0 0 24 24\"\n",
              "       width=\"24px\">\n",
              "    <path d=\"M0 0h24v24H0V0z\" fill=\"none\"/>\n",
              "    <path d=\"M18.56 5.44l.94 2.06.94-2.06 2.06-.94-2.06-.94-.94-2.06-.94 2.06-2.06.94zm-11 1L8.5 8.5l.94-2.06 2.06-.94-2.06-.94L8.5 2.5l-.94 2.06-2.06.94zm10 10l.94 2.06.94-2.06 2.06-.94-2.06-.94-.94-2.06-.94 2.06-2.06.94z\"/><path d=\"M17.41 7.96l-1.37-1.37c-.4-.4-.92-.59-1.43-.59-.52 0-1.04.2-1.43.59L10.3 9.45l-7.72 7.72c-.78.78-.78 2.05 0 2.83L4 21.41c.39.39.9.59 1.41.59.51 0 1.02-.2 1.41-.59l7.78-7.78 2.81-2.81c.8-.78.8-2.07 0-2.86zM5.41 20L4 18.59l7.72-7.72 1.47 1.35L5.41 20z\"/>\n",
              "  </svg>\n",
              "      </button>\n",
              "      \n",
              "  <style>\n",
              "    .colab-df-container {\n",
              "      display:flex;\n",
              "      flex-wrap:wrap;\n",
              "      gap: 12px;\n",
              "    }\n",
              "\n",
              "    .colab-df-convert {\n",
              "      background-color: #E8F0FE;\n",
              "      border: none;\n",
              "      border-radius: 50%;\n",
              "      cursor: pointer;\n",
              "      display: none;\n",
              "      fill: #1967D2;\n",
              "      height: 32px;\n",
              "      padding: 0 0 0 0;\n",
              "      width: 32px;\n",
              "    }\n",
              "\n",
              "    .colab-df-convert:hover {\n",
              "      background-color: #E2EBFA;\n",
              "      box-shadow: 0px 1px 2px rgba(60, 64, 67, 0.3), 0px 1px 3px 1px rgba(60, 64, 67, 0.15);\n",
              "      fill: #174EA6;\n",
              "    }\n",
              "\n",
              "    [theme=dark] .colab-df-convert {\n",
              "      background-color: #3B4455;\n",
              "      fill: #D2E3FC;\n",
              "    }\n",
              "\n",
              "    [theme=dark] .colab-df-convert:hover {\n",
              "      background-color: #434B5C;\n",
              "      box-shadow: 0px 1px 3px 1px rgba(0, 0, 0, 0.15);\n",
              "      filter: drop-shadow(0px 1px 2px rgba(0, 0, 0, 0.3));\n",
              "      fill: #FFFFFF;\n",
              "    }\n",
              "  </style>\n",
              "\n",
              "      <script>\n",
              "        const buttonEl =\n",
              "          document.querySelector('#df-903cec4a-f277-4e58-ab14-53458b8756c3 button.colab-df-convert');\n",
              "        buttonEl.style.display =\n",
              "          google.colab.kernel.accessAllowed ? 'block' : 'none';\n",
              "\n",
              "        async function convertToInteractive(key) {\n",
              "          const element = document.querySelector('#df-903cec4a-f277-4e58-ab14-53458b8756c3');\n",
              "          const dataTable =\n",
              "            await google.colab.kernel.invokeFunction('convertToInteractive',\n",
              "                                                     [key], {});\n",
              "          if (!dataTable) return;\n",
              "\n",
              "          const docLinkHtml = 'Like what you see? Visit the ' +\n",
              "            '<a target=\"_blank\" href=https://colab.research.google.com/notebooks/data_table.ipynb>data table notebook</a>'\n",
              "            + ' to learn more about interactive tables.';\n",
              "          element.innerHTML = '';\n",
              "          dataTable['output_type'] = 'display_data';\n",
              "          await google.colab.output.renderOutput(dataTable, element);\n",
              "          const docLink = document.createElement('div');\n",
              "          docLink.innerHTML = docLinkHtml;\n",
              "          element.appendChild(docLink);\n",
              "        }\n",
              "      </script>\n",
              "    </div>\n",
              "  </div>\n",
              "  "
            ],
            "text/plain": [
              "                                   Product_Name  ...                                   Resolution\n",
              "0        SAMSUNG Galaxy F22 (Denim Blue, 64 GB)  ...   48MP + 8MP + 2MP + 2MP | 13MP Front Camera\n",
              "1       SAMSUNG Galaxy F22 (Denim Blue, 128 GB)  ...   48MP + 8MP + 2MP + 2MP | 13MP Front Camera\n",
              "2   SAMSUNG Galaxy F12 (Celestial Black, 64 GB)  ...    48MP + 5MP + 2MP + 2MP | 8MP Front Camera\n",
              "3       SAMSUNG Galaxy F22 (Denim Black, 64 GB)  ...   48MP + 8MP + 2MP + 2MP | 13MP Front Camera\n",
              "4          SAMSUNG Galaxy F12 (Sky Blue, 64 GB)  ...    48MP + 5MP + 2MP + 2MP | 8MP Front Camera\n",
              "..                                          ...  ...                                          ...\n",
              "67           SAMSUNG Galaxy M12 (Black, 128 GB)  ...                             48MP Rear Camera\n",
              "68      SAMSUNG Galaxy F62 (Laser Grey, 128 GB)  ...  64MP + 12MP + 5MP + 5MP | 32MP Front Camera\n",
              "69         SAMSUNG Galaxy A22 5G (Mint, 128 GB)  ...          48MP + 5MP + 2MP | 8MP Front Camera\n",
              "70            SAMSUNG Galaxy M12 (White, 64 GB)  ...                             48MP Rear Camera\n",
              "71                              SAMSUNG GURU GT  ...                              800 mAh Battery\n",
              "\n",
              "[72 rows x 3 columns]"
            ]
          },
          "metadata": {},
          "execution_count": 18
        }
      ],
      "source": [
        "new_df"
      ]
    },
    {
      "cell_type": "code",
      "execution_count": 19,
      "id": "349633e2",
      "metadata": {
        "colab": {
          "base_uri": "https://localhost:8080/",
          "height": 174
        },
        "id": "349633e2",
        "outputId": "7eafcaac-6a82-4053-b990-8d22bcb4e10a"
      },
      "outputs": [
        {
          "output_type": "execute_result",
          "data": {
            "text/html": [
              "\n",
              "  <div id=\"df-2a26c944-2657-4dcd-9507-889e0a62d5bc\">\n",
              "    <div class=\"colab-df-container\">\n",
              "      <div>\n",
              "<style scoped>\n",
              "    .dataframe tbody tr th:only-of-type {\n",
              "        vertical-align: middle;\n",
              "    }\n",
              "\n",
              "    .dataframe tbody tr th {\n",
              "        vertical-align: top;\n",
              "    }\n",
              "\n",
              "    .dataframe thead th {\n",
              "        text-align: right;\n",
              "    }\n",
              "</style>\n",
              "<table border=\"1\" class=\"dataframe\">\n",
              "  <thead>\n",
              "    <tr style=\"text-align: right;\">\n",
              "      <th></th>\n",
              "      <th>Product_Name</th>\n",
              "      <th>Rating</th>\n",
              "      <th>Resolution</th>\n",
              "    </tr>\n",
              "  </thead>\n",
              "  <tbody>\n",
              "    <tr>\n",
              "      <th>count</th>\n",
              "      <td>72</td>\n",
              "      <td>72</td>\n",
              "      <td>72</td>\n",
              "    </tr>\n",
              "    <tr>\n",
              "      <th>unique</th>\n",
              "      <td>24</td>\n",
              "      <td>3</td>\n",
              "      <td>11</td>\n",
              "    </tr>\n",
              "    <tr>\n",
              "      <th>top</th>\n",
              "      <td>SAMSUNG Galaxy M12 (Blue, 128 GB)</td>\n",
              "      <td>4.2</td>\n",
              "      <td>48MP + 5MP + 2MP + 2MP | 8MP Front Camera</td>\n",
              "    </tr>\n",
              "    <tr>\n",
              "      <th>freq</th>\n",
              "      <td>3</td>\n",
              "      <td>45</td>\n",
              "      <td>18</td>\n",
              "    </tr>\n",
              "  </tbody>\n",
              "</table>\n",
              "</div>\n",
              "      <button class=\"colab-df-convert\" onclick=\"convertToInteractive('df-2a26c944-2657-4dcd-9507-889e0a62d5bc')\"\n",
              "              title=\"Convert this dataframe to an interactive table.\"\n",
              "              style=\"display:none;\">\n",
              "        \n",
              "  <svg xmlns=\"http://www.w3.org/2000/svg\" height=\"24px\"viewBox=\"0 0 24 24\"\n",
              "       width=\"24px\">\n",
              "    <path d=\"M0 0h24v24H0V0z\" fill=\"none\"/>\n",
              "    <path d=\"M18.56 5.44l.94 2.06.94-2.06 2.06-.94-2.06-.94-.94-2.06-.94 2.06-2.06.94zm-11 1L8.5 8.5l.94-2.06 2.06-.94-2.06-.94L8.5 2.5l-.94 2.06-2.06.94zm10 10l.94 2.06.94-2.06 2.06-.94-2.06-.94-.94-2.06-.94 2.06-2.06.94z\"/><path d=\"M17.41 7.96l-1.37-1.37c-.4-.4-.92-.59-1.43-.59-.52 0-1.04.2-1.43.59L10.3 9.45l-7.72 7.72c-.78.78-.78 2.05 0 2.83L4 21.41c.39.39.9.59 1.41.59.51 0 1.02-.2 1.41-.59l7.78-7.78 2.81-2.81c.8-.78.8-2.07 0-2.86zM5.41 20L4 18.59l7.72-7.72 1.47 1.35L5.41 20z\"/>\n",
              "  </svg>\n",
              "      </button>\n",
              "      \n",
              "  <style>\n",
              "    .colab-df-container {\n",
              "      display:flex;\n",
              "      flex-wrap:wrap;\n",
              "      gap: 12px;\n",
              "    }\n",
              "\n",
              "    .colab-df-convert {\n",
              "      background-color: #E8F0FE;\n",
              "      border: none;\n",
              "      border-radius: 50%;\n",
              "      cursor: pointer;\n",
              "      display: none;\n",
              "      fill: #1967D2;\n",
              "      height: 32px;\n",
              "      padding: 0 0 0 0;\n",
              "      width: 32px;\n",
              "    }\n",
              "\n",
              "    .colab-df-convert:hover {\n",
              "      background-color: #E2EBFA;\n",
              "      box-shadow: 0px 1px 2px rgba(60, 64, 67, 0.3), 0px 1px 3px 1px rgba(60, 64, 67, 0.15);\n",
              "      fill: #174EA6;\n",
              "    }\n",
              "\n",
              "    [theme=dark] .colab-df-convert {\n",
              "      background-color: #3B4455;\n",
              "      fill: #D2E3FC;\n",
              "    }\n",
              "\n",
              "    [theme=dark] .colab-df-convert:hover {\n",
              "      background-color: #434B5C;\n",
              "      box-shadow: 0px 1px 3px 1px rgba(0, 0, 0, 0.15);\n",
              "      filter: drop-shadow(0px 1px 2px rgba(0, 0, 0, 0.3));\n",
              "      fill: #FFFFFF;\n",
              "    }\n",
              "  </style>\n",
              "\n",
              "      <script>\n",
              "        const buttonEl =\n",
              "          document.querySelector('#df-2a26c944-2657-4dcd-9507-889e0a62d5bc button.colab-df-convert');\n",
              "        buttonEl.style.display =\n",
              "          google.colab.kernel.accessAllowed ? 'block' : 'none';\n",
              "\n",
              "        async function convertToInteractive(key) {\n",
              "          const element = document.querySelector('#df-2a26c944-2657-4dcd-9507-889e0a62d5bc');\n",
              "          const dataTable =\n",
              "            await google.colab.kernel.invokeFunction('convertToInteractive',\n",
              "                                                     [key], {});\n",
              "          if (!dataTable) return;\n",
              "\n",
              "          const docLinkHtml = 'Like what you see? Visit the ' +\n",
              "            '<a target=\"_blank\" href=https://colab.research.google.com/notebooks/data_table.ipynb>data table notebook</a>'\n",
              "            + ' to learn more about interactive tables.';\n",
              "          element.innerHTML = '';\n",
              "          dataTable['output_type'] = 'display_data';\n",
              "          await google.colab.output.renderOutput(dataTable, element);\n",
              "          const docLink = document.createElement('div');\n",
              "          docLink.innerHTML = docLinkHtml;\n",
              "          element.appendChild(docLink);\n",
              "        }\n",
              "      </script>\n",
              "    </div>\n",
              "  </div>\n",
              "  "
            ],
            "text/plain": [
              "                             Product_Name  ...                                 Resolution\n",
              "count                                  72  ...                                         72\n",
              "unique                                 24  ...                                         11\n",
              "top     SAMSUNG Galaxy M12 (Blue, 128 GB)  ...  48MP + 5MP + 2MP + 2MP | 8MP Front Camera\n",
              "freq                                    3  ...                                         18\n",
              "\n",
              "[4 rows x 3 columns]"
            ]
          },
          "metadata": {},
          "execution_count": 19
        }
      ],
      "source": [
        "new_df.describe()"
      ]
    },
    {
      "cell_type": "code",
      "execution_count": 20,
      "id": "b5c48b89",
      "metadata": {
        "colab": {
          "base_uri": "https://localhost:8080/"
        },
        "id": "b5c48b89",
        "outputId": "9f7dc87f-72b9-4fb0-ad91-6e74d851dcde"
      },
      "outputs": [
        {
          "output_type": "execute_result",
          "data": {
            "text/plain": [
              "4.2    0.625000\n",
              "4.3    0.291667\n",
              "4.1    0.083333\n",
              "Name: Rating, dtype: float64"
            ]
          },
          "metadata": {},
          "execution_count": 20
        }
      ],
      "source": [
        "new_df['Rating'].value_counts(normalize=True)"
      ]
    },
    {
      "cell_type": "code",
      "execution_count": 21,
      "id": "c0441e46",
      "metadata": {
        "colab": {
          "base_uri": "https://localhost:8080/"
        },
        "id": "c0441e46",
        "outputId": "7374787d-fe57-48d5-b2c8-498ddf54a64e"
      },
      "outputs": [
        {
          "output_type": "stream",
          "name": "stdout",
          "text": [
            "Train Accuracy 1.0\n",
            "Test Accuracy 1.0\n"
          ]
        }
      ],
      "source": [
        "from sklearn.ensemble import RandomForestClassifier\n",
        "from sklearn.model_selection import train_test_split\n",
        "from sklearn.feature_extraction.text import CountVectorizer\n",
        "cv=CountVectorizer(ngram_range=(1,2))\n",
        "X_cv=cv.fit_transform(df['Resolution']).toarray()\n",
        "X=X_cv\n",
        "y=df['Rating']\n",
        "X_train,X_test,y_train,y_test=train_test_split(X,y,test_size=0.2,random_state=10)\n",
        "RF=RandomForestClassifier()\n",
        "RF_model=RF.fit(X_train,y_train)\n",
        "print(\"Train Accuracy\",RF_model.score(X_train,y_train))\n",
        "print(\"Test Accuracy\",RF_model.score(X_test,y_test))"
      ]
    },
    {
      "cell_type": "code",
      "execution_count": 22,
      "id": "418fbf55",
      "metadata": {
        "colab": {
          "base_uri": "https://localhost:8080/",
          "height": 306
        },
        "id": "418fbf55",
        "outputId": "ecc7d9d2-4161-48eb-95ff-db913f610c5f"
      },
      "outputs": [
        {
          "output_type": "execute_result",
          "data": {
            "text/plain": [
              "(array([0, 1, 2]), <a list of 3 Text major ticklabel objects>)"
            ]
          },
          "metadata": {},
          "execution_count": 22
        },
        {
          "output_type": "display_data",
          "data": {
            "image/png": "[encoded data removed]",
            "text/plain": [
              "<Figure size 432x288 with 1 Axes>"
            ]
          },
          "metadata": {
            "needs_background": "light"
          }
        }
      ],
      "source": [
        "sns.countplot(x='Rating', data=new_df)\n",
        "plt.xticks(rotation=-45)"
      ]
    },
    {
      "cell_type": "code",
      "execution_count": 23,
      "id": "918dacb8",
      "metadata": {
        "id": "918dacb8"
      },
      "outputs": [],
      "source": [
        "new_df['Rating'] = pd.to_numeric(new_df['Rating'],errors='coerce')"
      ]
    },
    {
      "cell_type": "code",
      "execution_count": 24,
      "id": "48e1c2ae",
      "metadata": {
        "colab": {
          "base_uri": "https://localhost:8080/"
        },
        "id": "48e1c2ae",
        "outputId": "380ace85-1036-4fa4-9b8d-17367a4ec1ee"
      },
      "outputs": [
        {
          "output_type": "stream",
          "name": "stdout",
          "text": [
            "0      SAMSUNG Galaxy F22 (Denim Blue, 64 GB)  Positive\n",
            "1     SAMSUNG Galaxy F22 (Denim Blue, 128 GB)  Positive\n",
            "2     SAMSUNG Galaxy F12 (Celestial Black, 64 GB)  P...\n",
            "3     SAMSUNG Galaxy F22 (Denim Black, 64 GB)  Positive\n",
            "4        SAMSUNG Galaxy F12 (Sky Blue, 64 GB)  Positive\n",
            "                            ...                        \n",
            "67         SAMSUNG Galaxy M12 (Black, 128 GB)  Positive\n",
            "68    SAMSUNG Galaxy F62 (Laser Grey, 128 GB)  Positive\n",
            "69       SAMSUNG Galaxy A22 5G (Mint, 128 GB)  Positive\n",
            "70          SAMSUNG Galaxy M12 (White, 64 GB)  Positive\n",
            "71                            SAMSUNG GURU GT  Positive\n",
            "Name: Product_Name, Length: 72, dtype: object\n"
          ]
        }
      ],
      "source": [
        "try:\n",
        "    for ret in new_df['Rating']:\n",
        "        if ret>4:\n",
        "            pos=(new_df['Product_Name'] +'  Positive')\n",
        "        elif ret<4 and ret >3.5:\n",
        "            avg=(new_df['Product_Name'] +'Average')\n",
        "        else:\n",
        "            neg=(new_df['Product_Name'] +'Not good')\n",
        "    print(pos)\n",
        "    print(avg)\n",
        "    print(neg)\n",
        "except:\n",
        "    None"
      ]
    }
  ],
  "metadata": {
    "kernelspec": {
      "display_name": "Python 3",
      "language": "python",
      "name": "python3"
    },
    "language_info": {
      "codemirror_mode": {
        "name": "ipython",
        "version": 3
      },
      "file_extension": ".py",
      "mimetype": "text/x-python",
      "name": "python",
      "nbconvert_exporter": "python",
      "pygments_lexer": "ipython3",
      "version": "3.8.8"
    },
    "colab": {
      "name": "Mini Project.ipynb",
      "provenance": []
    }
  },
  "nbformat": 4,
  "nbformat_minor": 5
}